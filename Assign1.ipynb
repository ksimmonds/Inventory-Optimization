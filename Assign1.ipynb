{
 "cells": [
  {
   "cell_type": "markdown",
   "metadata": {},
   "source": [
    "# Assignment 1\n",
    "\n",
    "### Fetch Data from service API's and upload and retrive it back from your snowflake account\n"
   ]
  },
  {
   "cell_type": "markdown",
   "metadata": {},
   "source": [
    "#### Import the necessary libraries"
   ]
  },
  {
   "cell_type": "code",
   "execution_count": 68,
   "metadata": {},
   "outputs": [],
   "source": [
    "import requests\n",
    "import pandas as pd\n",
    "import snowflake.connector\n",
    "from snowflake.connector.pandas_tools import write_pandas"
   ]
  },
  {
   "cell_type": "markdown",
   "metadata": {},
   "source": [
    "#### Fetch data function to call the API's"
   ]
  },
  {
   "cell_type": "code",
   "execution_count": 70,
   "metadata": {},
   "outputs": [],
   "source": [
    "def fetch_data(url):\n",
    "    auth = (\"\", \"\") #API access credentials\n",
    "    response = requests.get(url, auth=auth)\n",
    "    if response.status_code == 200:\n",
    "        return response.json().get('d', {}).get('results', [])\n",
    "    return []"
   ]
  },
  {
   "cell_type": "markdown",
   "metadata": {},
   "source": [
    "#### Call The fetch_data() function"
   ]
  },
  {
   "cell_type": "code",
   "execution_count": 72,
   "metadata": {},
   "outputs": [
    {
     "name": "stdout",
     "output_type": "stream",
     "text": [
      "Data Fetched Succesfully\n"
     ]
    }
   ],
   "source": [
    "# API URLs\n",
    "\n",
    "inventory_url = \"https://verona.cob.csuchico.edu:8045/odata/240/Inventory?$format=json\"\n",
    "\n",
    "sales_url = \"https://verona.cob.csuchico.edu:8045/odata/240/Sales?$format=json\"\n",
    "\n",
    "market_url = \"https://verona.cob.csuchico.edu:8045/odata/240/Marketing_Expenses?$format=json\"\n",
    "# Fetching data\n",
    "inventory_data = fetch_data(inventory_url)\n",
    "sales_data = fetch_data(sales_url)\n",
    "market_data = fetch_data(market_url)\n",
    "print(\"Data Fetched Succesfully\")"
   ]
  },
  {
   "cell_type": "markdown",
   "metadata": {},
   "source": [
    "#### Convert JSON response to Pandas Data Frame"
   ]
  },
  {
   "cell_type": "code",
   "execution_count": 74,
   "metadata": {},
   "outputs": [
    {
     "name": "stdout",
     "output_type": "stream",
     "text": [
      "\n",
      "Inventory Data Frame - \n",
      "\n",
      "        ID  ROW_ID PLANT SIM_ROUND SIM_STEP SIM_DATE      SIM_CALENDAR_DATE  \\\n",
      "0  .1~1548    1548    CC        04       11    04/11  /Date(1710115200000)/   \n",
      "1  .1~1372    1372    CC        04       03    04/03  /Date(1709424000000)/   \n",
      "2  .1~2054    2054    CC        05       14    05/14  /Date(1712102400000)/   \n",
      "3  .1~1900    1900    CC        05       07    05/07  /Date(1711497600000)/   \n",
      "4  .1~1680    1680    CC        04       17    04/17  /Date(1710633600000)/   \n",
      "\n",
      "   SIM_PERIOD  SIM_ELAPSED_STEPS STORAGE_LOCATION MATERIAL_NUMBER  \\\n",
      "0          15                 71               02          CC-F12   \n",
      "1          13                 63               02          CC-F12   \n",
      "2          19                 94               02          CC-F12   \n",
      "3          18                 87               02          CC-F12   \n",
      "4          16                 77               02          CC-F12   \n",
      "\n",
      "   MATERIAL_DESCRIPTION     MATERIAL_TYPE MATERIAL_CODE MATERIAL_SIZE  \\\n",
      "0  1kg Blueberry Muesli  Finished Product           F12           1kg   \n",
      "1  1kg Blueberry Muesli  Finished Product           F12           1kg   \n",
      "2  1kg Blueberry Muesli  Finished Product           F12           1kg   \n",
      "3  1kg Blueberry Muesli  Finished Product           F12           1kg   \n",
      "4  1kg Blueberry Muesli  Finished Product           F12           1kg   \n",
      "\n",
      "     MATERIAL_LABEL INVENTORY_OPENING_BALANCE UNIT  \n",
      "0  Blueberry Muesli                         0   ST  \n",
      "1  Blueberry Muesli                         0   ST  \n",
      "2  Blueberry Muesli                         0   ST  \n",
      "3  Blueberry Muesli                         0   ST  \n",
      "4  Blueberry Muesli                         0   ST  \n",
      "ID                           object\n",
      "ROW_ID                        int64\n",
      "PLANT                        object\n",
      "SIM_ROUND                    object\n",
      "SIM_STEP                     object\n",
      "SIM_DATE                     object\n",
      "SIM_CALENDAR_DATE            object\n",
      "SIM_PERIOD                    int64\n",
      "SIM_ELAPSED_STEPS             int64\n",
      "STORAGE_LOCATION             object\n",
      "MATERIAL_NUMBER              object\n",
      "MATERIAL_DESCRIPTION         object\n",
      "MATERIAL_TYPE                object\n",
      "MATERIAL_CODE                object\n",
      "MATERIAL_SIZE                object\n",
      "MATERIAL_LABEL               object\n",
      "INVENTORY_OPENING_BALANCE    object\n",
      "UNIT                         object\n",
      "dtype: object\n",
      "\n",
      "Sales Data Frame - \n",
      "\n",
      "       ID  ROW_ID SALES_ORGANIZATION SIM_ROUND SIM_STEP SIM_DATE  \\\n",
      "0    .1~8       8                 CC        01       01    01/01   \n",
      "1  .1~263     263                 CC        04       10    04/10   \n",
      "2  .1~262     262                 CC        04       10    04/10   \n",
      "3  .1~261     261                 CC        04       10    04/10   \n",
      "4  .1~260     260                 CC        04       10    04/10   \n",
      "\n",
      "       SIM_CALENDAR_DATE  SIM_PERIOD  SIM_ELAPSED_STEPS SALES_ORDER_NUMBER  \\\n",
      "0  /Date(1704067200000)/           1                  1                  5   \n",
      "1  /Date(1710028800000)/          14                 70                536   \n",
      "2  /Date(1710028800000)/          14                 70                536   \n",
      "3  /Date(1710028800000)/          14                 70                538   \n",
      "4  /Date(1710028800000)/          14                 70                541   \n",
      "\n",
      "   ...    MATERIAL_LABEL QUANTITY QUANTITY_DELIVERED UNIT NET_PRICE NET_VALUE  \\\n",
      "0  ...  Blueberry Muesli     2113               2113   ST      5.26  11114.38   \n",
      "1  ...  Blueberry Muesli     2129               2129   ST      5.55  11815.95   \n",
      "2  ...  Blueberry Muesli     2457               2457   ST      5.55  13636.35   \n",
      "3  ...  Blueberry Muesli     2448               2448   ST      5.55  13586.40   \n",
      "4  ...  Blueberry Muesli     2252               2252   ST      5.55  12498.60   \n",
      "\n",
      "      COST CURRENCY CONTRIBUTION_MARGIN CONTRIBUTION_MARGIN_PCT  \n",
      "0  4796.51      EUR          6317.87000                    0.57  \n",
      "1  4832.83      EUR          6983.12000                    0.59  \n",
      "2  5577.39      EUR          8058.96000                    0.59  \n",
      "3  5556.96      EUR          8029.44000                    0.59  \n",
      "4  5112.04      EUR          7386.56000                    0.59  \n",
      "\n",
      "[5 rows x 34 columns]\n",
      "\n",
      "Market Data Frame - \n",
      "\n",
      "     ID  ROW_ID SALES_ORGANIZATION SIM_ROUND SIM_STEP SIM_DATE  \\\n",
      "0  .1~1       1                 CC        01       01    01/01   \n",
      "1  .1~2       2                 CC        01       01    01/01   \n",
      "2  .1~3       3                 CC        01       01    01/01   \n",
      "3  .1~4       4                 CC        01       01    01/01   \n",
      "4  .1~5       5                 CC        01       01    01/01   \n",
      "\n",
      "       SIM_CALENDAR_DATE  SIM_PERIOD  SIM_ELAPSED_STEPS MATERIAL_NUMBER  \\\n",
      "0  /Date(1704067200000)/           1                  1          CC-F01   \n",
      "1  /Date(1704067200000)/           1                  1          CC-F02   \n",
      "2  /Date(1704067200000)/           1                  1          CC-F03   \n",
      "3  /Date(1704067200000)/           1                  1          CC-F04   \n",
      "4  /Date(1704067200000)/           1                  1          CC-F05   \n",
      "\n",
      "     MATERIAL_DESCRIPTION   AREA AMOUNT CURRENCY  \n",
      "0         500g Nut Muesli  North   0.00      EUR  \n",
      "1   500g Blueberry Muesli  North   0.00      EUR  \n",
      "2  500g Strawberry Muesli  North   0.00      EUR  \n",
      "3      500g Raisin Muesli  North   0.00      EUR  \n",
      "4    500g Original Muesli  North   0.00      EUR  \n"
     ]
    }
   ],
   "source": [
    "inventory_df = pd.DataFrame(inventory_data).drop(columns=[\"__metadata\"], errors=\"ignore\")\n",
    "sales_df = pd.DataFrame(sales_data).drop(columns=[\"__metadata\"], errors=\"ignore\")\n",
    "market_df = pd.DataFrame(market_data).drop(columns=[\"__metadata\"], errors=\"ignore\")\n",
    "\n",
    "print(\"\\nInventory Data Frame - \\n\")\n",
    "print(inventory_df.head())\n",
    "\n",
    "print(inventory_df.dtypes)\n",
    "\n",
    "print(\"\\nSales Data Frame - \\n\")\n",
    "print(sales_df.head())\n",
    "\n",
    "print(\"\\nMarket Data Frame - \\n\")\n",
    "print(market_df.head())"
   ]
  },
  {
   "cell_type": "markdown",
   "metadata": {},
   "source": [
    "#### Process your data frames convert necessary fields into numeric values"
   ]
  },
  {
   "cell_type": "code",
   "execution_count": 76,
   "metadata": {},
   "outputs": [
    {
     "name": "stdout",
     "output_type": "stream",
     "text": [
      "ID                            object\n",
      "ROW_ID                         int64\n",
      "PLANT                         object\n",
      "SIM_ROUND                      int64\n",
      "SIM_STEP                       int64\n",
      "SIM_DATE                      object\n",
      "SIM_CALENDAR_DATE             object\n",
      "SIM_PERIOD                     int64\n",
      "SIM_ELAPSED_STEPS              int64\n",
      "STORAGE_LOCATION               int64\n",
      "MATERIAL_NUMBER               object\n",
      "MATERIAL_DESCRIPTION          object\n",
      "MATERIAL_TYPE                 object\n",
      "MATERIAL_CODE                 object\n",
      "MATERIAL_SIZE                 object\n",
      "MATERIAL_LABEL                object\n",
      "INVENTORY_OPENING_BALANCE    float64\n",
      "UNIT                          object\n",
      "dtype: object\n",
      "\n",
      " ID                          object\n",
      "ROW_ID                       int64\n",
      "SALES_ORGANIZATION          object\n",
      "SIM_ROUND                    int64\n",
      "SIM_STEP                     int64\n",
      "SIM_DATE                    object\n",
      "SIM_CALENDAR_DATE           object\n",
      "SIM_PERIOD                   int64\n",
      "SIM_ELAPSED_STEPS            int64\n",
      "SALES_ORDER_NUMBER           int64\n",
      "LINE_ITEM                    int64\n",
      "STORAGE_LOCATION             int64\n",
      "REGION                      object\n",
      "AREA                        object\n",
      "CITY                        object\n",
      "COUNTRY                     object\n",
      "POSTAL_CODE                 object\n",
      "CUSTOMER_NUMBER             object\n",
      "DISTRIBUTION_CHANNEL        object\n",
      "MATERIAL_NUMBER             object\n",
      "MATERIAL_DESCRIPTION        object\n",
      "MATERIAL_TYPE               object\n",
      "MATERIAL_CODE               object\n",
      "MATERIAL_SIZE               object\n",
      "MATERIAL_LABEL              object\n",
      "QUANTITY                     int64\n",
      "QUANTITY_DELIVERED           int64\n",
      "UNIT                        object\n",
      "NET_PRICE                  float64\n",
      "NET_VALUE                  float64\n",
      "COST                       float64\n",
      "CURRENCY                    object\n",
      "CONTRIBUTION_MARGIN        float64\n",
      "CONTRIBUTION_MARGIN_PCT    float64\n",
      "dtype: object\n",
      "\n",
      " ID                       object\n",
      "ROW_ID                    int64\n",
      "SALES_ORGANIZATION       object\n",
      "SIM_ROUND                object\n",
      "SIM_STEP                 object\n",
      "SIM_DATE                 object\n",
      "SIM_CALENDAR_DATE        object\n",
      "SIM_PERIOD                int64\n",
      "SIM_ELAPSED_STEPS         int64\n",
      "MATERIAL_NUMBER          object\n",
      "MATERIAL_DESCRIPTION     object\n",
      "AREA                     object\n",
      "AMOUNT                  float64\n",
      "CURRENCY                 object\n",
      "dtype: object\n"
     ]
    }
   ],
   "source": [
    "# Function to convert numeric columns\n",
    "def convert_numeric(df, numeric_columns):\n",
    "    for col in numeric_columns:\n",
    "        df[col] = pd.to_numeric(df[col], errors='coerce')  # Convert to numeric, set errors='coerce' to handle errors\n",
    "    return df\n",
    "\n",
    "# Inventory Table Numeric Columns\n",
    "inventory_numeric_columns = [\n",
    "    \"ROW_ID\", \"SIM_ROUND\", \"SIM_STEP\", \"SIM_PERIOD\", \"SIM_ELAPSED_STEPS\", \"STORAGE_LOCATION\", \"INVENTORY_OPENING_BALANCE\"\n",
    "]\n",
    "inventory_df = convert_numeric(inventory_df, inventory_numeric_columns)\n",
    "print(inventory_df.dtypes)\n",
    "\n",
    "# Sales Table Numeric Columns\n",
    "sales_numeric_columns = [\n",
    "    \"ROW_ID\", \"SIM_ROUND\", \"SIM_STEP\", \"SIM_PERIOD\", \"SIM_ELAPSED_STEPS\", \"SALES_ORDER_NUMBER\",\n",
    "    \"LINE_ITEM\", \"STORAGE_LOCATION\", \"QUANTITY\", \"QUANTITY_DELIVERED\", \"NET_PRICE\",\n",
    "    \"NET_VALUE\", \"COST\", \"CONTRIBUTION_MARGIN\", \"CONTRIBUTION_MARGIN_PCT\"\n",
    "]\n",
    "sales_df = convert_numeric(sales_df, sales_numeric_columns)\n",
    "print(\"\\n\",sales_df.dtypes)\n",
    "\n",
    "# Market Table Numeric Columns\n",
    "market_numeric_columns = [\"ROW_ID\", \"SIM_PERIOD\", \"SIM_ELAPSED_STEPS\", \"AMOUNT\"]\n",
    "market_df = convert_numeric(market_df, market_numeric_columns)\n",
    "print(\"\\n\",market_df.dtypes)\n"
   ]
  },
  {
   "cell_type": "markdown",
   "metadata": {},
   "source": [
    "#### Connect to your snowflake account using snowflake connector library"
   ]
  },
  {
   "cell_type": "code",
   "execution_count": 78,
   "metadata": {},
   "outputs": [],
   "source": [
    "conn = snowflake.connector.connect(\n",
    "    user='ksimmonds', # Username\n",
    "    password='Purposeful_2025#', # Password to your snowflake account\n",
    "    account='xxqojql-kc79258', # Account URL ID\n",
    "    warehouse='COMPUTE_WH', # Warhouse ID\n",
    "    database='TEST', # Database Name\n",
    "    schema='PUBLIC', # Schema Type Def - PUBLIC\n",
    "    role='ACCOUNTADMIN' # Access role - ACCOUNTADMIN\n",
    "    )"
   ]
  },
  {
   "cell_type": "markdown",
   "metadata": {},
   "source": [
    "#### Create a cursor to your database and  create 3 new tables using SQL query"
   ]
  },
  {
   "cell_type": "code",
   "execution_count": 80,
   "metadata": {},
   "outputs": [
    {
     "data": {
      "text/plain": [
       "<snowflake.connector.cursor.SnowflakeCursor at 0x13e5684a0>"
      ]
     },
     "execution_count": 80,
     "metadata": {},
     "output_type": "execute_result"
    }
   ],
   "source": [
    "cursor=conn.cursor()\n",
    "\n",
    "cursor.execute('''\n",
    "    CREATE OR REPLACE TABLE \"InventoryTable\" (\n",
    "        ID VARCHAR(16777216),\n",
    "        ROW_ID NUMBER(38,0),\n",
    "        PLANT VARCHAR(16777216),\n",
    "        SIM_ROUND NUMBER(38,0),\n",
    "        SIM_STEP NUMBER(38,0),\n",
    "        SIM_DATE VARCHAR(16777216),\n",
    "        SIM_CALENDAR_DATE VARCHAR(16777216),\n",
    "        SIM_PERIOD NUMBER(38,0),\n",
    "        SIM_ELAPSED_STEPS NUMBER(38,0),\n",
    "        STORAGE_LOCATION NUMBER(38,0),\n",
    "        MATERIAL_NUMBER VARCHAR(16777216),\n",
    "        MATERIAL_DESCRIPTION VARCHAR(16777216),\n",
    "        MATERIAL_TYPE VARCHAR(16777216),\n",
    "        MATERIAL_CODE VARCHAR(16777216),\n",
    "        MATERIAL_SIZE VARCHAR(16777216),\n",
    "        MATERIAL_LABEL VARCHAR(16777216),\n",
    "        INVENTORY_OPENING_BALANCE NUMBER(38,3),\n",
    "        UNIT VARCHAR(16777216)\n",
    "    );\n",
    "''')\n",
    "\n",
    "cursor.execute('''\n",
    "    CREATE OR REPLACE TABLE \"SalesTable\" (\n",
    "        ID VARCHAR(16777216),\n",
    "        ROW_ID NUMBER(38,0),\n",
    "        SALES_ORGANIZATION VARCHAR(16777216),\n",
    "        SIM_ROUND VARCHAR(16777216),\n",
    "        SIM_STEP VARCHAR(16777216),\n",
    "        SIM_DATE VARCHAR(16777216),\n",
    "        SIM_CALENDAR_DATE VARCHAR(16777216),\n",
    "        SIM_PERIOD NUMBER(38,0),\n",
    "        SIM_ELAPSED_STEPS NUMBER(38,0),\n",
    "        SALES_ORDER_NUMBER VARCHAR(16777216),\n",
    "        LINE_ITEM VARCHAR(16777216),\n",
    "        STORAGE_LOCATION VARCHAR(16777216),\n",
    "        REGION VARCHAR(16777216),\n",
    "        AREA VARCHAR(16777216),\n",
    "        CITY VARCHAR(16777216),\n",
    "        COUNTRY VARCHAR(16777216),\n",
    "        POSTAL_CODE VARCHAR(16777216),\n",
    "        CUSTOMER_NUMBER VARCHAR(16777216),\n",
    "        DISTRIBUTION_CHANNEL VARCHAR(16777216),\n",
    "        MATERIAL_NUMBER VARCHAR(16777216),\n",
    "        MATERIAL_DESCRIPTION VARCHAR(16777216),\n",
    "        MATERIAL_TYPE VARCHAR(16777216),\n",
    "        MATERIAL_CODE VARCHAR(16777216),\n",
    "        MATERIAL_SIZE VARCHAR(16777216),\n",
    "        MATERIAL_LABEL VARCHAR(16777216),\n",
    "        QUANTITY NUMBER(38,3),\n",
    "        QUANTITY_DELIVERED NUMBER(38,3),\n",
    "        UNIT VARCHAR(16777216),\n",
    "        NET_PRICE NUMBER(38,2),\n",
    "        NET_VALUE NUMBER(38,2),\n",
    "        COST NUMBER(38,2),\n",
    "        CURRENCY VARCHAR(16777216),\n",
    "        CONTRIBUTION_MARGIN NUMBER(38,5),\n",
    "        CONTRIBUTION_MARGIN_PCT NUMBER(38,5)\n",
    "    );\n",
    "''')\n",
    "\n",
    "cursor.execute('''\n",
    "    CREATE OR REPLACE TABLE \"MarketTable\" (\n",
    "        ID VARCHAR(16777216),\n",
    "        ROW_ID NUMBER(38,0),\n",
    "        SALES_ORGANIZATION VARCHAR(16777216),\n",
    "        SIM_ROUND VARCHAR(16777216),\n",
    "        SIM_STEP VARCHAR(16777216),\n",
    "        SIM_DATE VARCHAR(50),\n",
    "        SIM_CALENDAR_DATE VARCHAR(16777216),\n",
    "        SIM_PERIOD NUMBER(38,0),\n",
    "        SIM_ELAPSED_STEPS NUMBER(38,0),\n",
    "        MATERIAL_NUMBER VARCHAR(16777216),\n",
    "        MATERIAL_DESCRIPTION VARCHAR(16777216),\n",
    "        AREA VARCHAR(16777216),\n",
    "        AMOUNT NUMBER(38,2),\n",
    "        CURRENCY VARCHAR(10)\n",
    "    );\n",
    "''')\n"
   ]
  },
  {
   "cell_type": "markdown",
   "metadata": {},
   "source": [
    "#### Using the Snowflake pandas tool upload your data to their respective tables"
   ]
  },
  {
   "cell_type": "code",
   "execution_count": 82,
   "metadata": {},
   "outputs": [
    {
     "name": "stdout",
     "output_type": "stream",
     "text": [
      "Inventory data uploaded\n",
      "Market data uploaded\n",
      "Sales data uploaded\n"
     ]
    }
   ],
   "source": [
    "write_pandas(conn,inventory_df,table_name=\"InventoryTable\")\n",
    "print(\"Inventory data uploaded\")\n",
    "\n",
    "write_pandas(conn,market_df,table_name=\"MarketTable\")\n",
    "print(\"Market data uploaded\")\n",
    "\n",
    "write_pandas(conn,sales_df,table_name=\"SalesTable\")\n",
    "print(\"Sales data uploaded\")"
   ]
  },
  {
   "cell_type": "markdown",
   "metadata": {},
   "source": [
    "#### Try Fetching the data uploaded to the tables from snowflake using SQL query"
   ]
  },
  {
   "cell_type": "code",
   "execution_count": 84,
   "metadata": {},
   "outputs": [
    {
     "name": "stdout",
     "output_type": "stream",
     "text": [
      "        0     1   2   3   4      5                      6   7   8   9   \\\n",
      "0  .1~1548  1548  CC   4  11  04/11  /Date(1710115200000)/  15  71   2   \n",
      "1  .1~1372  1372  CC   4   3  04/03  /Date(1709424000000)/  13  63   2   \n",
      "2  .1~2054  2054  CC   5  14  05/14  /Date(1712102400000)/  19  94   2   \n",
      "3  .1~1900  1900  CC   5   7  05/07  /Date(1711497600000)/  18  87   2   \n",
      "4  .1~1680  1680  CC   4  17  04/17  /Date(1710633600000)/  16  77   2   \n",
      "\n",
      "       10                    11                12   13   14                15  \\\n",
      "0  CC-F12  1kg Blueberry Muesli  Finished Product  F12  1kg  Blueberry Muesli   \n",
      "1  CC-F12  1kg Blueberry Muesli  Finished Product  F12  1kg  Blueberry Muesli   \n",
      "2  CC-F12  1kg Blueberry Muesli  Finished Product  F12  1kg  Blueberry Muesli   \n",
      "3  CC-F12  1kg Blueberry Muesli  Finished Product  F12  1kg  Blueberry Muesli   \n",
      "4  CC-F12  1kg Blueberry Muesli  Finished Product  F12  1kg  Blueberry Muesli   \n",
      "\n",
      "      16  17  \n",
      "0  0.000  ST  \n",
      "1  0.000  ST  \n",
      "2  0.000  ST  \n",
      "3  0.000  ST  \n",
      "4  0.000  ST  \n"
     ]
    }
   ],
   "source": [
    "sqlquery='SELECT * FROM \"InventoryTable\"'\n",
    "cursor.execute(sqlquery)\n",
    "resp=cursor.fetchall()\n",
    "sf_data=pd.DataFrame(resp)\n",
    "print(sf_data.head())"
   ]
  },
  {
   "cell_type": "code",
   "execution_count": null,
   "metadata": {},
   "outputs": [],
   "source": []
  }
 ],
 "metadata": {
  "kernelspec": {
   "display_name": "Python 3 (ipykernel)",
   "language": "python",
   "name": "python3"
  },
  "language_info": {
   "codemirror_mode": {
    "name": "ipython",
    "version": 3
   },
   "file_extension": ".py",
   "mimetype": "text/x-python",
   "name": "python",
   "nbconvert_exporter": "python",
   "pygments_lexer": "ipython3",
   "version": "3.12.4"
  }
 },
 "nbformat": 4,
 "nbformat_minor": 4
}
